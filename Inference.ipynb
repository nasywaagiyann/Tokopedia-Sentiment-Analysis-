{
  "nbformat": 4,
  "nbformat_minor": 0,
  "metadata": {
    "colab": {
      "provenance": []
    },
    "kernelspec": {
      "name": "python3",
      "display_name": "Python 3"
    },
    "language_info": {
      "name": "python"
    }
  },
  "cells": [
    {
      "cell_type": "code",
      "source": [
        "import pickle\n",
        "import re\n",
        "import string\n",
        "import joblib"
      ],
      "metadata": {
        "id": "KUYM6qu_81Us"
      },
      "execution_count": 8,
      "outputs": []
    },
    {
      "cell_type": "code",
      "execution_count": 9,
      "metadata": {
        "id": "70M2SaRTwWR8"
      },
      "outputs": [],
      "source": [
        "# Muat model dan vectorizer dari file\n",
        "svm = joblib.load('/content/svm_tfidf_model.pkl')\n",
        "tfidf_vectorizer = joblib.load('/content/tfidf_vectorizer.pkl')\n"
      ]
    },
    {
      "cell_type": "code",
      "source": [
        "new_text = [\n",
        "    \"Aplikasi ini sangat bagus dan berkualitas tinggi!\"\n",
        "]\n"
      ],
      "metadata": {
        "id": "tZvd5r_E8Ou8"
      },
      "execution_count": 10,
      "outputs": []
    },
    {
      "cell_type": "code",
      "source": [
        "\n",
        "# Muat slang words\n",
        "fSlang = \"/content/new_kamusalay.csv\"\n",
        "sw = open(fSlang, encoding='utf-8', errors='ignore', mode='r')\n",
        "SlangS = sw.readlines()\n",
        "sw.close()\n",
        "SlangS = {slang.strip().split(',')[0]: slang.strip().split(',')[1] for slang in SlangS}\n",
        "\n",
        "# Muat stopwords\n",
        "fStop = \"/content/stopwordbahasa.csv\"\n",
        "st = open(fStop, encoding='utf-8', errors='ignore', mode='r')\n",
        "StopS = st.readlines()\n",
        "st.close()\n",
        "StopS = {Stop.strip() for Stop in StopS}\n",
        "\n",
        "# Load the models (ubah ekstensi file menjadi .pkl)\n",
        "svm_model = pickle.load(open('svm_tfidf_model.pkl', 'rb'))\n",
        "tfidf = pickle.load(open('tfidf_vectorizer.pkl', 'rb'))\n",
        "le = pickle.load(open('label_encoder.pkl', 'rb'))\n",
        "\n",
        "# Fungsi untuk slang words dan stopwords\n",
        "def formaldanstop(t):\n",
        "    t = t.split()\n",
        "    for i, x in enumerate(t):\n",
        "        if x in SlangS.keys():\n",
        "            t[i] = SlangS[x]\n",
        "    return ' '.join(x for x in t if x not in StopS)\n",
        "\n",
        "# Fungsi untuk remove duplicate letters\n",
        "def remove_duplicate_letters(text):\n",
        "    return re.sub(r'(.)\\1+', r'\\1', text)\n",
        "\n",
        "# Fungsi untuk memprediksi sentiment\n",
        "def predict_sentiment(new_text):\n",
        "    # Preprocessing\n",
        "    new_text = new_text.lower()  # Case folding\n",
        "    new_text = re.sub(r'\\d+', '', new_text)  # Remove numbers\n",
        "    new_text = re.sub(r'[^\\w\\s]', '', new_text)  # Remove punctuation\n",
        "\n",
        "    # Gunakan slang word dan stopword removal\n",
        "    new_text = formaldanstop(new_text)\n",
        "\n",
        "    # Gunakan function to remove duplicate letters\n",
        "    new_text = remove_duplicate_letters(new_text)\n",
        "\n",
        "    # Membuat TF-IDF features\n",
        "    new_text_features = tfidf.transform([new_text])\n",
        "\n",
        "    # Membuat prediksi\n",
        "    prediction = svm_model.predict(new_text_features)\n",
        "\n",
        "    # Sentimen label\n",
        "    sentiment_label = le.inverse_transform(prediction)[0]\n",
        "\n",
        "    return sentiment_label\n",
        "\n"
      ],
      "metadata": {
        "id": "hG-2G4_X8doz"
      },
      "execution_count": 11,
      "outputs": []
    },
    {
      "cell_type": "code",
      "source": [
        "# Contoh Penggunaan\n",
        "new_text = \"Aplikasi ini sangat bagus dan berkualitas tinggi!\"\n",
        "predicted_sentiment = predict_sentiment(new_text)\n",
        "print(f\"Sentiment for '{new_text}': {predicted_sentiment}\")"
      ],
      "metadata": {
        "colab": {
          "base_uri": "https://localhost:8080/"
        },
        "id": "83xzgsa48x0W",
        "outputId": "a45bba78-be9e-4554-9dfb-d63645c2242e"
      },
      "execution_count": 12,
      "outputs": [
        {
          "output_type": "stream",
          "name": "stdout",
          "text": [
            "Sentiment for 'Aplikasi ini sangat bagus dan berkualitas tinggi!': Positif\n"
          ]
        }
      ]
    }
  ]
}